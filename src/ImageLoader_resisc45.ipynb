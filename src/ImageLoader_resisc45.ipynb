{
 "cells": [
  {
   "cell_type": "code",
   "execution_count": null,
   "id": "37baa377-73a5-459a-8c0a-a64d3a863b4f",
   "metadata": {},
   "outputs": [],
   "source": [
    "from IPython.core.interactiveshell import InteractiveShell\n",
    "InteractiveShell.ast_node_interactivity = \"all\""
   ]
  },
  {
   "cell_type": "code",
   "execution_count": null,
   "id": "9066c786-8437-44ff-a449-a3e9079e1c10",
   "metadata": {},
   "outputs": [],
   "source": [
    "# !pip install torchgeo\n",
    "# https://github.com/microsoft/torchgeo"
   ]
  },
  {
   "cell_type": "code",
   "execution_count": null,
   "id": "d79c7caf-be18-4f5a-95f0-9c8d04dfc50d",
   "metadata": {},
   "outputs": [],
   "source": [
    "!pwd\n",
    "# ! ls -la ./../../data/MultiModalGenAI/resisc45/NWPU-RESISC45\n",
    "! ls -la ./../../data/MultiModalGenAI/resisc45/"
   ]
  },
  {
   "cell_type": "code",
   "execution_count": null,
   "id": "46ee547a-0aa0-444e-824f-3027054474ee",
   "metadata": {},
   "outputs": [],
   "source": [
    "# import torch\n",
    "import torch.nn as nn\n",
    "import torchvision.transforms as T\n",
    "from torch import Tensor\n",
    "from torch.utils.data import DataLoader\n",
    "import torch.cuda as torchcuda\n",
    "\n",
    "from torchgeo.datasets import RESISC45\n",
    "\n",
    "from PIL import Image\n",
    "\n",
    "\n"
   ]
  },
  {
   "cell_type": "code",
   "execution_count": null,
   "id": "3f2c4e70-4354-4d5d-9b04-028c75cddae8",
   "metadata": {},
   "outputs": [],
   "source": [
    "device = 'cuda' if torchcuda.is_available() else 'cpu'\n",
    "device"
   ]
  },
  {
   "cell_type": "code",
   "execution_count": null,
   "id": "24f9a0cc-4733-42ef-bd0d-737fc39784be",
   "metadata": {},
   "outputs": [],
   "source": [
    "# dataset = RESISC45(root=\"./../../data/MultiModalGenAI/resisc45/\", download=True, checksum=True)\n",
    "dataset = RESISC45(root=\"./../../data/MultiModalGenAI/resisc45/\", download=False)"
   ]
  },
  {
   "cell_type": "code",
   "execution_count": null,
   "id": "5d12d7ce-728b-411e-a293-7517591e4736",
   "metadata": {},
   "outputs": [],
   "source": [
    "# https://wandb.ai/sauravmaheshkar/Dataset-DataLoader/reports/An-Introduction-to-Datasets-and-DataLoader-in-PyTorch--VmlldzoxMDI5MTY2\n",
    "dataloader = DataLoader(dataset, batch_size=64, shuffle=False)"
   ]
  },
  {
   "cell_type": "code",
   "execution_count": null,
   "id": "f50aa80f-5e3c-477a-b669-8f883049eb02",
   "metadata": {},
   "outputs": [],
   "source": [
    "# https://torchgeo.readthedocs.io/en/latest/tutorials/transforms.html\n",
    "batch_size = 4\n",
    "num_workers = 2\n",
    "\n",
    "dataloader = DataLoader(\n",
    "    dataset, batch_size=batch_size, shuffle=True, num_workers=num_workers\n",
    ")\n",
    "dataloader = iter(dataloader)\n",
    "print(f'Number of images in dataset: {len(dataset)}')\n",
    "print(f'Dataset Classes: {dataset.classes}')"
   ]
  },
  {
   "cell_type": "code",
   "execution_count": null,
   "id": "829a6fab-a5fd-4b6d-ae07-0669c9d21fcd",
   "metadata": {},
   "outputs": [],
   "source": []
  },
  {
   "cell_type": "code",
   "execution_count": null,
   "id": "78a97d18-4369-4b31-9930-652a4d97d119",
   "metadata": {},
   "outputs": [],
   "source": [
    "sample = dataset[0]\n",
    "x, y = sample['image'], sample['label']\n",
    "print(x.shape, x.dtype, x.min(), x.max())\n",
    "print(y, dataset.classes[y])"
   ]
  },
  {
   "cell_type": "code",
   "execution_count": null,
   "id": "9c1db87a-2c7c-4209-85bb-cdcbfb9132b9",
   "metadata": {},
   "outputs": [],
   "source": [
    "batch = next(dataloader)\n",
    "x, y = batch['image'], batch['label']\n",
    "print(x.shape, x.dtype, x.min(), x.max())\n",
    "print(y, [dataset.classes[i] for i in y])"
   ]
  },
  {
   "cell_type": "code",
   "execution_count": null,
   "id": "f580495f-5224-4dfa-9ef5-9326976c829c",
   "metadata": {},
   "outputs": [],
   "source": [
    "idx = 21  # @param {type:\"slider\", min:0, max:59, step:1}\n",
    "sample = dataset[idx]\n",
    "rgb = sample['image']\n",
    "image = T.ToPILImage()(rgb)\n",
    "print(f\"Class Label: {dataset.classes[sample['label']]}\")\n",
    "# image.resize((256, 256), resample=Image.BILINEAR)\n",
    "image"
   ]
  },
  {
   "cell_type": "code",
   "execution_count": null,
   "id": "bbc64373-9504-4cbb-aa7e-0a6698e9a94c",
   "metadata": {},
   "outputs": [],
   "source": []
  }
 ],
 "metadata": {
  "kernelspec": {
   "display_name": "Python 3 (ipykernel)",
   "language": "python",
   "name": "python3"
  },
  "language_info": {
   "codemirror_mode": {
    "name": "ipython",
    "version": 3
   },
   "file_extension": ".py",
   "mimetype": "text/x-python",
   "name": "python",
   "nbconvert_exporter": "python",
   "pygments_lexer": "ipython3",
   "version": "3.10.12"
  }
 },
 "nbformat": 4,
 "nbformat_minor": 5
}
