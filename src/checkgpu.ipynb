{
 "cells": [
  {
   "cell_type": "code",
   "execution_count": null,
   "metadata": {},
   "outputs": [],
   "source": [
    "from IPython.core.interactiveshell import InteractiveShell\n",
    "InteractiveShell.ast_node_interactivity = \"all\""
   ]
  },
  {
   "cell_type": "code",
   "execution_count": null,
   "metadata": {},
   "outputs": [],
   "source": [
    "!python -c 'import sys; print(\"Python: \"+sys.version+\" \\n\")'\n",
    "!python -c 'import tensorflow as tf; print(\"\\nTF: \"+tf.version.VERSION+\" \\n\")'\n",
    "\n",
    "!nvcc --version\n",
    "#! /usr/local/cuda/bin/nvcc --version\n",
    "!whereis nvcc\n",
    "\n",
    "#!cat /usr/local/cuda-12.3/include/cudnn_version.h | grep CUDNN_MAJOR -A 2\n",
    "\n",
    "!ls /usr/local/cuda/lib64/ | grep cudnn\n",
    "!ls /usr/local/cuda/include/ | grep cudnn"
   ]
  },
  {
   "cell_type": "code",
   "execution_count": null,
   "metadata": {},
   "outputs": [],
   "source": [
    "!whereis cudnn_version.h\n",
    "!cat $(whereis cuda)/include/cudnn.h | grep CUDNN_MAJOR -A 2\n",
    "!cat $(whereis cuda)/include/cudnn_version.h | grep CUDNN_MAJOR -A 2\n"
   ]
  },
  {
   "cell_type": "code",
   "execution_count": null,
   "metadata": {},
   "outputs": [],
   "source": [
    "import sys; print(sys.version)\n",
    "import tensorflow as tf; print(tf.version.VERSION)\n",
    "from tensorflow.python.client import device_lib\n",
    "\n",
    "# Check if the GPU and CuDNN are recognized\n",
    "print(device_lib.list_local_devices())\n",
    "print(tf.test.is_built_with_cuda())\n",
    "tf.config.list_physical_devices() #'GPU'\n"
   ]
  },
  {
   "cell_type": "code",
   "execution_count": null,
   "metadata": {},
   "outputs": [],
   "source": [
    "tf.config.list_physical_devices('GPU') #'GPU'\n"
   ]
  },
  {
   "cell_type": "code",
   "execution_count": null,
   "metadata": {},
   "outputs": [],
   "source": [
    "gpus = tf.config.list_physical_devices('GPU')\n",
    "for gpu in gpus:\n",
    "    print(\"Name:\", gpu.name, \"  Type:\", gpu.device_type)"
   ]
  },
  {
   "cell_type": "code",
   "execution_count": null,
   "metadata": {},
   "outputs": [],
   "source": [
    "tf.config.experimental.set_memory_growth(gpus[0], enable=True)"
   ]
  }
 ],
 "metadata": {
  "accelerator": "GPU",
  "colab": {
   "collapsed_sections": [
    "W_tvPdyfA-BL"
   ],
   "name": "transfer_learning_with_hub.ipynb",
   "toc_visible": true
  },
  "kernelspec": {
   "display_name": "Python 3 (ipykernel)",
   "language": "python",
   "name": "python3"
  },
  "language_info": {
   "codemirror_mode": {
    "name": "ipython",
    "version": 3
   },
   "file_extension": ".py",
   "mimetype": "text/x-python",
   "name": "python",
   "nbconvert_exporter": "python",
   "pygments_lexer": "ipython3",
   "version": "3.11.0rc1"
  }
 },
 "nbformat": 4,
 "nbformat_minor": 4
}
