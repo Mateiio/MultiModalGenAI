{
 "cells": [
  {
   "cell_type": "markdown",
   "id": "dde194a4-aff6-4a4d-9fe2-968c213987fc",
   "metadata": {},
   "source": [
    "### Classification using Zero-shot learning and CLIP\n",
    "https://github.com/openai/CLIP  \n",
    "https://www.analyticsvidhya.com/blog/2024/07/vision-language-models/   \n",
    "   "
   ]
  },
  {
   "cell_type": "code",
   "execution_count": null,
   "id": "d929d777-3319-4309-9131-9861a503560b",
   "metadata": {},
   "outputs": [],
   "source": [
    "from IPython.core.interactiveshell import InteractiveShell\n",
    "InteractiveShell.ast_node_interactivity = \"all\""
   ]
  },
  {
   "cell_type": "code",
   "execution_count": null,
   "id": "8605368c-b05e-4ff5-84d7-fc60a3bd8b2f",
   "metadata": {},
   "outputs": [],
   "source": [
    "# !pip install git+https://github.com/openai/CLIP.git"
   ]
  },
  {
   "cell_type": "code",
   "execution_count": null,
   "id": "49587e39-e52e-4f09-8d74-eec0dcb8d8df",
   "metadata": {},
   "outputs": [],
   "source": [
    "import tensorflow as tf\n",
    "import torch\n",
    "import torchvision.transforms as T\n",
    "\n",
    "import clip\n",
    "from PIL import Image"
   ]
  },
  {
   "cell_type": "code",
   "execution_count": null,
   "id": "1e37cc45-875c-47d7-a9fc-b957c4595b9d",
   "metadata": {},
   "outputs": [],
   "source": [
    "!nvcc --version"
   ]
  },
  {
   "cell_type": "code",
   "execution_count": null,
   "id": "b7b3a6d3-b3f4-42d0-b4a2-52bcd714a8e4",
   "metadata": {},
   "outputs": [],
   "source": [
    "print(tf.__version__) \n",
    "print(tf.config.list_physical_devices('GPU'))\n",
    "\n",
    "print(torch.__version__)\n",
    "for i in range(torch.cuda.device_count()):\n",
    "   print(torch.cuda.get_device_properties(i).name)"
   ]
  },
  {
   "cell_type": "code",
   "execution_count": null,
   "id": "7ae6e095-e4ad-4b1e-a444-d910ea607687",
   "metadata": {},
   "outputs": [],
   "source": [
    "!pwd\n",
    "! ls -la ./../../data/MultiModalGenAI/dog.png\n",
    "! ls -la ./../../data/MultiModalGenAI/zsl/CLIP.png"
   ]
  },
  {
   "cell_type": "code",
   "execution_count": null,
   "id": "f903ba02-d747-41a2-b4d8-5368ad19f669",
   "metadata": {},
   "outputs": [],
   "source": [
    "device = \"cuda\" if torch.cuda.is_available() else \"cpu\"\n",
    "model, preprocess = clip.load(\"ViT-B/32\", device=device)"
   ]
  },
  {
   "cell_type": "code",
   "execution_count": null,
   "id": "9784b3db-4514-4cfd-af64-30579b92477c",
   "metadata": {},
   "outputs": [],
   "source": [
    "device"
   ]
  },
  {
   "cell_type": "code",
   "execution_count": null,
   "id": "755bb4cb-34df-4776-9375-7def26e20bd2",
   "metadata": {},
   "outputs": [],
   "source": [
    "# local_image_path = \"./../../data/MultiModalGenAI/zsl/CLIP.png\"  \n",
    "local_image_path = \"./../../data/MultiModalGenAI/dog.png\" \n",
    "\n",
    "textInput=[\"a diagram\", \"a dog\", \"a cat\"]\n",
    "img = Image.open(local_image_path)\n",
    "img.show()"
   ]
  },
  {
   "cell_type": "code",
   "execution_count": null,
   "id": "dfacf8ae-f06b-4fb7-b7c2-e678c61f505d",
   "metadata": {},
   "outputs": [],
   "source": [
    "image = preprocess(Image.open(local_image_path)).unsqueeze(0).to(device)\n",
    "\n",
    "text = clip.tokenize(textInput).to(device)"
   ]
  },
  {
   "cell_type": "code",
   "execution_count": null,
   "id": "fa489932-ab6d-4010-ad0f-c357ec34faa1",
   "metadata": {},
   "outputs": [],
   "source": [
    "with torch.no_grad():\n",
    "    image_features = model.encode_image(image)\n",
    "    text_features = model.encode_text(text)\n",
    "    \n",
    "    logits_per_image, logits_per_text = model(image, text)\n",
    "    probs = logits_per_image.softmax(dim=-1).cpu().numpy()\n",
    "\n",
    "print(\"Label probs:\", probs)  # prints: [[0.9927937  0.00421068 0.00299572]]"
   ]
  },
  {
   "cell_type": "markdown",
   "id": "22406e88-702c-4305-a9ab-6a1a690cf94b",
   "metadata": {},
   "source": [
    "Explanations"
   ]
  },
  {
   "cell_type": "code",
   "execution_count": null,
   "id": "45e08a88-422c-444e-983b-13f1d54caa2a",
   "metadata": {},
   "outputs": [],
   "source": [
    "# Input test\n",
    "type(textInput)\n",
    "print(textInput)\n",
    "\n",
    "# preprocessed text\n",
    "type(text)\n",
    "text.shape\n",
    "\n",
    "# encodings\n",
    "image_features.shape\n",
    "text_features.shape\n",
    "\n",
    "# Input image\n",
    "type(img)\n",
    "img.size\n",
    "\n",
    "# preprocessed image\n",
    "type(image)\n",
    "image.shape\n",
    "\n",
    "# show preprocessed image\n",
    "type(image.squeeze())\n",
    "(image.squeeze()).shape\n",
    "transform = T.ToPILImage()\n",
    "transform(image.squeeze()).show()\n"
   ]
  },
  {
   "cell_type": "code",
   "execution_count": null,
   "id": "7dbf35f1-9c98-4963-94d4-08d6e392fa66",
   "metadata": {},
   "outputs": [],
   "source": []
  }
 ],
 "metadata": {
  "kernelspec": {
   "display_name": "Python 3 (ipykernel)",
   "language": "python",
   "name": "python3"
  },
  "language_info": {
   "codemirror_mode": {
    "name": "ipython",
    "version": 3
   },
   "file_extension": ".py",
   "mimetype": "text/x-python",
   "name": "python",
   "nbconvert_exporter": "python",
   "pygments_lexer": "ipython3",
   "version": "3.10.12"
  }
 },
 "nbformat": 4,
 "nbformat_minor": 5
}
