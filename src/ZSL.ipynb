{
 "cells": [
  {
   "cell_type": "markdown",
   "id": "dde194a4-aff6-4a4d-9fe2-968c213987fc",
   "metadata": {},
   "source": [
    "### Classification using Zero-shot learning and CLIP\n",
    "https://www.analyticsvidhya.com/blog/2024/07/vision-language-models/ \n",
    "   \n",
    "https://github.com/openai/CLIP  \n"
   ]
  },
  {
   "cell_type": "code",
   "execution_count": null,
   "id": "d929d777-3319-4309-9131-9861a503560b",
   "metadata": {},
   "outputs": [],
   "source": [
    "from IPython.core.interactiveshell import InteractiveShell\n",
    "InteractiveShell.ast_node_interactivity = \"all\""
   ]
  },
  {
   "cell_type": "code",
   "execution_count": null,
   "id": "8605368c-b05e-4ff5-84d7-fc60a3bd8b2f",
   "metadata": {},
   "outputs": [],
   "source": [
    "# !pip install git+https://github.com/openai/CLIP.git"
   ]
  },
  {
   "cell_type": "code",
   "execution_count": null,
   "id": "5853cadf-784c-4c28-ab8e-79951186426c",
   "metadata": {},
   "outputs": [],
   "source": [
    "import tensorflow as tf\n",
    "import torch\n",
    "\n",
    "print(tf.__version__) \n",
    "print(tf.config.list_physical_devices('GPU'))\n",
    "\n",
    "print(torch.__version__)\n",
    "for i in range(torch.cuda.device_count()):\n",
    "   print(torch.cuda.get_device_properties(i).name)"
   ]
  },
  {
   "cell_type": "code",
   "execution_count": null,
   "id": "13bef440-e624-4d0f-a59f-d2eae8bd0780",
   "metadata": {},
   "outputs": [],
   "source": [
    "!nvcc --version"
   ]
  },
  {
   "cell_type": "code",
   "execution_count": null,
   "id": "511be82c-0c72-405e-a758-c604f129dc03",
   "metadata": {},
   "outputs": [],
   "source": [
    "import torch\n",
    "import clip\n",
    "from PIL import Image"
   ]
  },
  {
   "cell_type": "code",
   "execution_count": null,
   "id": "7ae6e095-e4ad-4b1e-a444-d910ea607687",
   "metadata": {},
   "outputs": [],
   "source": [
    "!pwd\n",
    "! ls -la ./../../data/MultiModalGenAI/dog.png\n",
    "! ls -la ./../../data/MultiModalGenAI/zsl/CLIP.png"
   ]
  },
  {
   "cell_type": "code",
   "execution_count": null,
   "id": "f903ba02-d747-41a2-b4d8-5368ad19f669",
   "metadata": {},
   "outputs": [],
   "source": [
    "device = \"cuda\" if torch.cuda.is_available() else \"cpu\"\n",
    "model, preprocess = clip.load(\"ViT-B/32\", device=device)"
   ]
  },
  {
   "cell_type": "code",
   "execution_count": null,
   "id": "9784b3db-4514-4cfd-af64-30579b92477c",
   "metadata": {},
   "outputs": [],
   "source": [
    "device"
   ]
  },
  {
   "cell_type": "code",
   "execution_count": null,
   "id": "755bb4cb-34df-4776-9375-7def26e20bd2",
   "metadata": {},
   "outputs": [],
   "source": [
    "local_image_path = \"./../../data/MultiModalGenAI/zsl/CLIP.png\"  \n",
    "img = Image.open(local_image_path)\n",
    "img.show()"
   ]
  },
  {
   "cell_type": "code",
   "execution_count": null,
   "id": "dfacf8ae-f06b-4fb7-b7c2-e678c61f505d",
   "metadata": {},
   "outputs": [],
   "source": [
    "image = preprocess(Image.open(local_image_path)).unsqueeze(0).to(device)\n",
    "text = clip.tokenize([\"a diagram\", \"a dog\", \"a cat\"]).to(device)"
   ]
  },
  {
   "cell_type": "code",
   "execution_count": null,
   "id": "6275ab92-6a62-42e9-80e2-9997f9d9fcb2",
   "metadata": {},
   "outputs": [],
   "source": [
    "text"
   ]
  },
  {
   "cell_type": "code",
   "execution_count": null,
   "id": "fa489932-ab6d-4010-ad0f-c357ec34faa1",
   "metadata": {},
   "outputs": [],
   "source": [
    "with torch.no_grad():\n",
    "    image_features = model.encode_image(image)\n",
    "    text_features = model.encode_text(text)\n",
    "    \n",
    "    logits_per_image, logits_per_text = model(image, text)\n",
    "    probs = logits_per_image.softmax(dim=-1).cpu().numpy()\n",
    "\n",
    "print(\"Label probs:\", probs)  # prints: [[0.9927937  0.00421068 0.00299572]]"
   ]
  },
  {
   "cell_type": "code",
   "execution_count": null,
   "id": "614eafe7-8642-4962-ad5a-2d561d7cb8b4",
   "metadata": {},
   "outputs": [],
   "source": [
    "import torchvision.transforms as T\n",
    "\n",
    "type(image)\n",
    "type(img)\n",
    "image.shape\n",
    "transform = T.ToPILImage()\n",
    "transform(image.squeeze()).show()"
   ]
  },
  {
   "cell_type": "code",
   "execution_count": null,
   "id": "45e08a88-422c-444e-983b-13f1d54caa2a",
   "metadata": {},
   "outputs": [],
   "source": []
  }
 ],
 "metadata": {
  "kernelspec": {
   "display_name": "Python 3 (ipykernel)",
   "language": "python",
   "name": "python3"
  },
  "language_info": {
   "codemirror_mode": {
    "name": "ipython",
    "version": 3
   },
   "file_extension": ".py",
   "mimetype": "text/x-python",
   "name": "python",
   "nbconvert_exporter": "python",
   "pygments_lexer": "ipython3",
   "version": "3.10.12"
  }
 },
 "nbformat": 4,
 "nbformat_minor": 5
}
