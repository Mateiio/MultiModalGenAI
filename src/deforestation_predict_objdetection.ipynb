{
 "cells": [
  {
   "cell_type": "markdown",
   "id": "826db936-5c2e-4ac7-a7c6-ffaf53e4d09b",
   "metadata": {},
   "source": [
    "# deforesation quantification using classification based object detection \n"
   ]
  },
  {
   "cell_type": "code",
   "execution_count": null,
   "id": "910981eb-dc83-407a-9a14-befd1dae4743",
   "metadata": {},
   "outputs": [],
   "source": [
    "from IPython.core.interactiveshell import InteractiveShell\n",
    "InteractiveShell.ast_node_interactivity = \"all\""
   ]
  },
  {
   "cell_type": "code",
   "execution_count": null,
   "id": "d03c0918-371f-47ea-b2a9-ac5a7617fa55",
   "metadata": {},
   "outputs": [],
   "source": [
    "import os, pathlib\n",
    "\n",
    "import numpy as np\n",
    "import time\n",
    "import datetime\n",
    "import math\n",
    "\n",
    "\n",
    "import PIL.Image as Image\n",
    "import matplotlib.pylab as plt\n",
    "import matplotlib as mpl\n",
    "\n",
    "\n",
    "os.environ['TF_USE_LEGACY_KERAS'] = '1'\n",
    "import tensorflow as tf\n",
    "import tensorflow_hub as hub\n",
    "\n",
    "# https://github.com/tensorflow/tensorflow/issues/65419\n",
    "# import tf_keras\n",
    "version_fn = getattr(tf.keras, \"version\", None)\n",
    "if version_fn and version_fn().startswith(\"3.\"):\n",
    "    import tf_keras as keras\n",
    "else:\n",
    "    keras = tf.keras\n",
    "\n",
    "from tensorflow.keras import layers"
   ]
  },
  {
   "cell_type": "code",
   "execution_count": null,
   "id": "3b9f226b-f04b-433e-a8ea-8bf0f1e1203f",
   "metadata": {},
   "outputs": [],
   "source": [
    "gpus = tf.config.list_physical_devices('GPU')\n",
    "for gpu in gpus:\n",
    "    print(\"Name:\", gpu.name, \"  Type:\", gpu.device_type)"
   ]
  },
  {
   "cell_type": "code",
   "execution_count": null,
   "id": "391b11f1-e11f-4b04-9955-074e2b50c8ca",
   "metadata": {},
   "outputs": [],
   "source": [
    "tf.config.experimental.set_memory_growth(gpus[0], enable=True)"
   ]
  },
  {
   "cell_type": "code",
   "execution_count": null,
   "id": "a5bc2e1f-33f2-4880-8332-3092b5f46e67",
   "metadata": {},
   "outputs": [],
   "source": [
    "input_data_dir = './../../Data/MultiModalGenAI/resisc45/NWPU-RESISC45_small'\n",
    "output_models_dir = './../../models/MultiModalGenAI/deforestation'\n",
    "modelfname= 'deforestation_model_1735604427'\n",
    "\n",
    "batch_size = 32\n",
    "img_height = 224\n",
    "img_width = 224\n"
   ]
  },
  {
   "cell_type": "code",
   "execution_count": null,
   "id": "bf3ba3bd-da10-4733-a2c4-9103988be537",
   "metadata": {},
   "outputs": [],
   "source": [
    "trained_model = tf.keras.models.load_model(f'{output_models_dir}/{modelfname}')"
   ]
  },
  {
   "cell_type": "code",
   "execution_count": null,
   "id": "ec041e31-80a7-4a0c-9bd1-f30d175a7f37",
   "metadata": {},
   "outputs": [],
   "source": [
    "dataset_path = pathlib.Path(input_data_dir).with_suffix('')\n",
    "image_count = len(list(dataset_path.glob('*/*.jpg')))\n",
    "print(image_count)"
   ]
  },
  {
   "cell_type": "code",
   "execution_count": null,
   "id": "92c9c25e-2011-450d-b69d-0de0b8b5788c",
   "metadata": {},
   "outputs": [],
   "source": [
    "train_ds = tf.keras.utils.image_dataset_from_directory(\n",
    "  str(dataset_path),\n",
    "  validation_split=0.4,\n",
    "  subset=\"training\",\n",
    "  seed=123,\n",
    "  image_size=(img_height, img_width),\n",
    "  batch_size=batch_size\n",
    ")\n",
    "\n",
    "val_ds = tf.keras.utils.image_dataset_from_directory(\n",
    "  str(dataset_path),\n",
    "  validation_split=0.4,\n",
    "  subset=\"validation\",\n",
    "  seed=123,\n",
    "  image_size=(img_height, img_width),\n",
    "  batch_size=batch_size\n",
    ")"
   ]
  },
  {
   "cell_type": "code",
   "execution_count": null,
   "id": "da6e44d3-188f-43a5-85c7-b7e202d1063b",
   "metadata": {},
   "outputs": [],
   "source": [
    "class_names = np.array(train_ds.class_names)\n",
    "print(class_names)"
   ]
  },
  {
   "cell_type": "code",
   "execution_count": null,
   "id": "a5f95e67-9247-4599-9202-0fe673ae222f",
   "metadata": {},
   "outputs": [],
   "source": [
    "normalization_layer = tf.keras.layers.Rescaling(1./255)\n",
    "train_ds = train_ds.map(lambda x, y: (normalization_layer(x), y)) # Where x—images, y—labels.\n",
    "val_ds = val_ds.map(lambda x, y: (normalization_layer(x), y)) # Where x—images, y—labels."
   ]
  },
  {
   "cell_type": "code",
   "execution_count": null,
   "id": "ca958623-586c-4d1a-96a9-3b4ba0a37322",
   "metadata": {},
   "outputs": [],
   "source": [
    "AUTOTUNE = tf.data.AUTOTUNE\n",
    "train_ds = train_ds.cache().prefetch(buffer_size=AUTOTUNE)\n",
    "val_ds = val_ds.cache().prefetch(buffer_size=AUTOTUNE)"
   ]
  },
  {
   "cell_type": "code",
   "execution_count": null,
   "id": "ef1b4aba-8662-4a1c-ad61-e9d85b338a21",
   "metadata": {},
   "outputs": [],
   "source": [
    "for val_image_batch, val_labels_batch in val_ds:\n",
    "  print(val_image_batch.shape)\n",
    "  print(val_image_batch.shape)\n",
    "  break"
   ]
  },
  {
   "cell_type": "code",
   "execution_count": null,
   "id": "af3aa784-f9e6-4d17-94b5-bff149b007f2",
   "metadata": {},
   "outputs": [],
   "source": [
    "val_predictions_batch = trained_model.predict(val_image_batch)"
   ]
  },
  {
   "cell_type": "code",
   "execution_count": null,
   "id": "dd7c1ef2-485a-40f8-9648-51c7dbdf7ccc",
   "metadata": {},
   "outputs": [],
   "source": [
    "val_predicted_id = tf.math.argmax(val_predictions_batch, axis=-1)\n",
    "val_predicted_label_batch = class_names[val_predicted_id]\n",
    "print(val_predicted_label_batch)\n"
   ]
  },
  {
   "cell_type": "code",
   "execution_count": null,
   "id": "4223a9ec-6582-4ee5-a5f6-6233ec71b19f",
   "metadata": {},
   "outputs": [],
   "source": [
    "_ = plt.figure(figsize=(10,12))\n",
    "_ = plt.subplots_adjust(wspace=.5, hspace=0.5)\n",
    "for n in range(30):\n",
    "    _ = plt.subplot(5,6,n+1)\n",
    "    _ = plt.imshow(val_image_batch[n])\n",
    "    _ = plt.title(f'Pred:{str(val_predicted_label_batch[n].title())}\\nReal:{class_names[val_labels_batch[n]]}')\n",
    "    _ = plt.axis('off')\n",
    "    _ = plt.suptitle(\"Model predictions on Validation Data\")"
   ]
  },
  {
   "cell_type": "markdown",
   "id": "b3c3e807-5964-402d-96bc-7723a2b6eea1",
   "metadata": {},
   "source": [
    "## Patched Object Detection using transfer learning based image classification \n"
   ]
  },
  {
   "cell_type": "code",
   "execution_count": null,
   "id": "61738793-99c2-49f3-897e-a76b446b377c",
   "metadata": {},
   "outputs": [],
   "source": [
    "!pwd\n",
    "!ls -la ./../../data/MultiModalGenAI/deforestation/EldoradoNationalForest/Deforestation10*"
   ]
  },
  {
   "cell_type": "code",
   "execution_count": null,
   "id": "9f706d38-5d0d-41b0-b1ac-0c40b60206f3",
   "metadata": {},
   "outputs": [],
   "source": [
    "get_patches = lambda x: (tf.reshape(\n",
    "    tf.image.extract_patches(\n",
    "        images=tf.expand_dims(x, 0),\n",
    "        sizes=[1, patch_height, patch_width, 1],\n",
    "        strides=[1, stride_height, stride_width, 1],\n",
    "        rates=[1, 1, 1, 1],\n",
    "        padding='VALID'), (-1, patch_height, patch_width, 3))\n",
    ")\n",
    "\n",
    "def create_heatmap(predicts_ids, patches_order, patches_shape):\n",
    "    patch_num_y, patch_num_x = patches_order\n",
    "    patch_height, patch_width = patches_shape\n",
    "    # heatmap = np.full(patches_shape, np.nan)\n",
    "    index = 0\n",
    "    heatmap = np.full(patches_shape, predicts_ids[index])\n",
    "    index+=1\n",
    "    \n",
    "    for col_index in range(patch_num_x-1):\n",
    "        heatmap = np.concatenate((heatmap,np.full(patches_shape, predicts_ids[index])),axis=1)\n",
    "        index+=1\n",
    "        \n",
    "    for row_index in range(patch_num_y-1):\n",
    "        rowarray  = np.full(patches_shape, predicts_ids[index])\n",
    "        index+=1\n",
    "        for col_index in range(patch_num_x-1):\n",
    "            rowarray = np.concatenate((rowarray,np.full(patches_shape, predicts_ids[index])),axis=1)\n",
    "            index+=1\n",
    "        heatmap = np.concatenate((heatmap, rowarray),axis=0)\n",
    "        \n",
    "    return heatmap\n",
    "\n",
    "# https://keras.io/examples/vision/grad_cam/\n",
    "def save_and_display_gradcam(img, heatmap, cam_path=\"cam.jpg\", alpha=0.4):\n",
    "    # Use jet colormap to colorize heatmap\n",
    "    jet = mpl.colormaps[\"jet\"]\n",
    "\n",
    "    # Use RGB values of the colormap\n",
    "    jet_colors = jet(np.arange(256))[:, :3]\n",
    "    jet_heatmap = jet_colors[heatmap]\n",
    "\n",
    "    # Create an image with RGB colorized heatmap\n",
    "    jet_heatmap = keras.utils.array_to_img(jet_heatmap)\n",
    "    # jet_heatmap = jet_heatmap.resize((img.shape[1], img.shape[0]))\n",
    "    jet_heatmap = keras.utils.img_to_array(jet_heatmap)\n",
    "\n",
    "    # Superimpose the heatmap on original image, cropped to match the heatmap\n",
    "    superimposed_img = jet_heatmap * alpha + img[:heatmap.shape[0],:heatmap.shape[1],:]\n",
    "    superimposed_img = keras.utils.array_to_img(superimposed_img)\n",
    "\n",
    "    # Save the superimposed image\n",
    "    superimposed_img.save(cam_path)\n",
    "\n",
    "    # Display Grad CAM\n",
    "    return  tf.keras.utils.load_img(cam_path)\n",
    "\n",
    "\n",
    "resize_and_rescale = tf.keras.Sequential([\n",
    "  layers.Resizing(img_height, img_width),\n",
    "  layers.Rescaling(1./255)\n",
    "])"
   ]
  },
  {
   "cell_type": "code",
   "execution_count": null,
   "id": "84f360ac-3122-4b4c-ade1-47f318abee00",
   "metadata": {},
   "outputs": [],
   "source": [
    "patch_width = math.floor(img_width*1)\n",
    "patch_height = math.floor(img_height*1)\n",
    "stride_width = patch_width\n",
    "stride_height = patch_height"
   ]
  },
  {
   "cell_type": "code",
   "execution_count": null,
   "id": "e8cdb951-8be7-41e8-b729-dd472e680b4a",
   "metadata": {},
   "outputs": [],
   "source": [
    "# image_f = 'Deforestation10_after_12_2020.jpg'\n",
    "# image_f = 'Deforestation10_before_12_1999.jpg'\n",
    "# image_f = 'Deforestation05_after_12_2019.jpg'\n",
    "# image_f = 'Deforestation05_before_12_2018.jpg'\n",
    "image_f = 'Deforestation01_after_06_2012.jpg'\n",
    "\n",
    "images_path = './../../data/MultiModalGenAI/deforestation/EldoradoNationalForest/'\n",
    "target_img = tf.keras.utils.load_img(images_path+image_f)\n",
    "target_arr  = tf.keras.utils.img_to_array(target_img)\n",
    "target_arr.shape"
   ]
  },
  {
   "cell_type": "code",
   "execution_count": null,
   "id": "54e286b4-5f24-4d14-8529-bfaac070e39f",
   "metadata": {},
   "outputs": [],
   "source": [
    "patches = get_patches(target_arr)\n",
    "patch_num_y, patch_num_x = math.floor(target_arr.shape[0]/stride_height), math.floor(target_arr.shape[1]/stride_width)\n"
   ]
  },
  {
   "cell_type": "code",
   "execution_count": null,
   "id": "21087770-5722-40fe-8a86-ba2bff56d137",
   "metadata": {},
   "outputs": [],
   "source": [
    "_=fig = plt.figure(figsize=(15,10))\n",
    "_=plt.subplots_adjust(wspace=.05, hspace=.05)\n",
    "\n",
    "for index in range(patches.shape[0]):\n",
    "    arr_ = np.squeeze(patches[index,])\n",
    "    ax = plt.subplot(patch_num_y, patch_num_x,  index + 1)\n",
    "    ax.set_xticks([])\n",
    "    ax.set_yticks([])\n",
    "    ax.imshow(arr_/255)\n",
    "_=plt.show()"
   ]
  },
  {
   "cell_type": "code",
   "execution_count": null,
   "id": "6d304dd5-e8b9-4af7-bfd5-69fa7418e734",
   "metadata": {},
   "outputs": [],
   "source": [
    "patches_predicts = trained_model.predict(resize_and_rescale(patches))\n",
    "patches_predicts_id = tf.math.argmax(patches_predicts, axis=-1)\n",
    "patches_predicts_label = class_names[patches_predicts_id]\n",
    "patches_predicts_forrest = np.clip(patches_predicts[:, np.where(class_names == 'forest')[0]], 0, None)\n",
    "\n",
    "# classifHeatmap = create_heatmap(patches_predicts_id, (patch_num_y, patch_num_x), (patch_height, patch_width))\n",
    "classifHeatmap = create_heatmap(patches_predicts_forrest, (patch_num_y, patch_num_x), (patch_height, patch_width))\n",
    "classifHeatmapNorm =  np.uint8(255.*(classifHeatmap - classifHeatmap.min())/(classifHeatmap.max() - classifHeatmap.min()))\n",
    "\n",
    "save_and_display_gradcam(target_arr, classifHeatmapNorm)\n",
    "keras.utils.array_to_img( np.repeat(classifHeatmapNorm[:, :, np.newaxis], 3, axis=2))\n",
    "keras.utils.array_to_img(target_arr)\n",
    "\n",
    "\n",
    "patches.shape\n",
    "(patch_width, patch_height)\n",
    "(stride_width, stride_height)\n",
    "(patch_num_y, patch_num_x)\n",
    "\n",
    "print(patches_predicts_label)\n",
    "print(patches_predicts_id)\n",
    "\n",
    "classifHeatmap.shape\n",
    "classifHeatmapNorm.shape"
   ]
  },
  {
   "cell_type": "code",
   "execution_count": null,
   "id": "ca3f5141-70ba-48da-913b-3498774f1883",
   "metadata": {},
   "outputs": [],
   "source": []
  },
  {
   "cell_type": "code",
   "execution_count": null,
   "id": "9c5b5798-6172-43e4-bc8d-0166f97c9c45",
   "metadata": {},
   "outputs": [],
   "source": [
    "# image_f = 'Deforestation01_before_07_2011.jpg'\n",
    "image_f = 'Deforestation03HR_after_09_2019.jpg'\n",
    "\n",
    "images_path = './../../data/MultiModalGenAI/deforestation/EldoradoNationalForest/'\n",
    "target_img = tf.keras.utils.load_img(images_path+image_f)\n",
    "target_arr  = tf.keras.utils.img_to_array(target_img)\n",
    "\n",
    "patches = get_patches(target_arr)\n",
    "patches_predicts = trained_model.predict(resize_and_rescale(patches))\n",
    "patches_predicts_id = tf.math.argmax(patches_predicts, axis=-1)\n",
    "patches_predicts_label = class_names[patches_predicts_id]\n",
    "patches_predicts_forrest = np.clip(patches_predicts[:, np.where(class_names == 'forest')[0]], 0, None)\n",
    "\n",
    "patch_num_y, patch_num_x = math.floor(target_arr.shape[0]/stride_height), math.floor(target_arr.shape[1]/stride_width)\n",
    "# classifHeatmap = create_heatmap(patches_predicts_id, (patch_num_y, patch_num_x), (patch_height, patch_width))\n",
    "classifHeatmap = create_heatmap(patches_predicts_forrest, (patch_num_y, patch_num_x), (patch_height, patch_width))\n",
    "classifHeatmapNorm =  np.uint8(255.*(classifHeatmap - classifHeatmap.min())/(classifHeatmap.max() - classifHeatmap.min()))\n",
    "\n",
    "save_and_display_gradcam(target_arr, classifHeatmapNorm)\n",
    "keras.utils.array_to_img( np.repeat(classifHeatmapNorm[:, :, np.newaxis], 3, axis=2))\n",
    "keras.utils.array_to_img(target_arr)"
   ]
  },
  {
   "cell_type": "code",
   "execution_count": null,
   "id": "4ae1157f-635c-4237-a726-45c8d92a72f7",
   "metadata": {},
   "outputs": [],
   "source": [
    "image_f = 'Deforestation03HR_before_06_2018.jpg'\n",
    "\n",
    "images_path = './../../data/MultiModalGenAI/deforestation/EldoradoNationalForest/'\n",
    "target_img = tf.keras.utils.load_img(images_path+image_f)\n",
    "target_arr  = tf.keras.utils.img_to_array(target_img)\n",
    "\n",
    "patches = get_patches(target_arr)\n",
    "patches_predicts = trained_model.predict(resize_and_rescale(patches))\n",
    "patches_predicts_id = tf.math.argmax(patches_predicts, axis=-1)\n",
    "patches_predicts_label = class_names[patches_predicts_id]\n",
    "patches_predicts_forrest = np.clip(patches_predicts[:, np.where(class_names == 'forest')[0]], 0, None)\n",
    "\n",
    "patch_num_y, patch_num_x = math.floor(target_arr.shape[0]/stride_height), math.floor(target_arr.shape[1]/stride_width)\n",
    "# classifHeatmap = create_heatmap(patches_predicts_id, (patch_num_y, patch_num_x), (patch_height, patch_width))\n",
    "classifHeatmap = create_heatmap(patches_predicts_forrest, (patch_num_y, patch_num_x), (patch_height, patch_width))\n",
    "classifHeatmapNorm =  np.uint8(255.*(classifHeatmap - classifHeatmap.min())/(classifHeatmap.max() - classifHeatmap.min()))\n",
    "\n",
    "save_and_display_gradcam(target_arr, classifHeatmapNorm)\n",
    "keras.utils.array_to_img( np.repeat(classifHeatmapNorm[:, :, np.newaxis], 3, axis=2))\n",
    "keras.utils.array_to_img(target_arr)"
   ]
  },
  {
   "cell_type": "code",
   "execution_count": null,
   "id": "d1c68af6-b42a-4011-aa65-29855f878f7a",
   "metadata": {},
   "outputs": [],
   "source": [
    "image_f = 'Deforestation01HR_after_06_2012.jpg'\n",
    "\n",
    "images_path = './../../data/MultiModalGenAI/deforestation/EldoradoNationalForest/'\n",
    "target_img = tf.keras.utils.load_img(images_path+image_f)\n",
    "target_arr  = tf.keras.utils.img_to_array(target_img)\n",
    "\n",
    "patches = get_patches(target_arr)\n",
    "patches_predicts = trained_model.predict(resize_and_rescale(patches))\n",
    "patches_predicts_id = tf.math.argmax(patches_predicts, axis=-1)\n",
    "patches_predicts_label = class_names[patches_predicts_id]\n",
    "patches_predicts_forrest = np.clip(patches_predicts[:, np.where(class_names == 'forest')[0]], 0, None)\n",
    "\n",
    "patch_num_y, patch_num_x = math.floor(target_arr.shape[0]/stride_height), math.floor(target_arr.shape[1]/stride_width)\n",
    "# classifHeatmap = create_heatmap(patches_predicts_id, (patch_num_y, patch_num_x), (patch_height, patch_width))\n",
    "classifHeatmap = create_heatmap(patches_predicts_forrest, (patch_num_y, patch_num_x), (patch_height, patch_width))\n",
    "classifHeatmapNorm =  np.uint8(255.*(classifHeatmap - classifHeatmap.min())/(classifHeatmap.max() - classifHeatmap.min()))\n",
    "\n",
    "save_and_display_gradcam(target_arr, classifHeatmapNorm)\n",
    "keras.utils.array_to_img( np.repeat(classifHeatmapNorm[:, :, np.newaxis], 3, axis=2))\n",
    "keras.utils.array_to_img(target_arr)"
   ]
  },
  {
   "cell_type": "code",
   "execution_count": null,
   "id": "53cb5bb0-67fb-4711-bbfa-ad56b03a8c00",
   "metadata": {},
   "outputs": [],
   "source": [
    "image_f = 'Deforestation01HR_before_06_2011.jpg'\n",
    "\n",
    "images_path = './../../data/MultiModalGenAI/deforestation/EldoradoNationalForest/'\n",
    "target_img = tf.keras.utils.load_img(images_path+image_f)\n",
    "target_arr  = tf.keras.utils.img_to_array(target_img)\n",
    "\n",
    "patches = get_patches(target_arr)\n",
    "patches_predicts = trained_model.predict(resize_and_rescale(patches))\n",
    "patches_predicts_id = tf.math.argmax(patches_predicts, axis=-1)\n",
    "patches_predicts_label = class_names[patches_predicts_id]\n",
    "patches_predicts_forrest = np.clip(patches_predicts[:, np.where(class_names == 'forest')[0]], 0, None)\n",
    "\n",
    "patch_num_y, patch_num_x = math.floor(target_arr.shape[0]/stride_height), math.floor(target_arr.shape[1]/stride_width)\n",
    "# classifHeatmap = create_heatmap(patches_predicts_id, (patch_num_y, patch_num_x), (patch_height, patch_width))\n",
    "classifHeatmap = create_heatmap(patches_predicts_forrest, (patch_num_y, patch_num_x), (patch_height, patch_width))\n",
    "classifHeatmapNorm =  np.uint8(255.*(classifHeatmap - classifHeatmap.min())/(classifHeatmap.max() - classifHeatmap.min()))\n",
    "\n",
    "save_and_display_gradcam(target_arr, classifHeatmapNorm)\n",
    "keras.utils.array_to_img( np.repeat(classifHeatmapNorm[:, :, np.newaxis], 3, axis=2))\n",
    "keras.utils.array_to_img(target_arr)"
   ]
  },
  {
   "cell_type": "code",
   "execution_count": null,
   "id": "876230fe-548d-4a6c-81ab-88e99351ceae",
   "metadata": {},
   "outputs": [],
   "source": []
  }
 ],
 "metadata": {
  "kernelspec": {
   "display_name": "Python 3 (ipykernel)",
   "language": "python",
   "name": "python3"
  },
  "language_info": {
   "codemirror_mode": {
    "name": "ipython",
    "version": 3
   },
   "file_extension": ".py",
   "mimetype": "text/x-python",
   "name": "python",
   "nbconvert_exporter": "python",
   "pygments_lexer": "ipython3",
   "version": "3.11.0rc1"
  }
 },
 "nbformat": 4,
 "nbformat_minor": 5
}
