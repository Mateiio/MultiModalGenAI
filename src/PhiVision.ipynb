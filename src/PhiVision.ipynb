{
 "cells": [
  {
   "cell_type": "code",
   "execution_count": null,
   "id": "cbaa49f3-3614-4e70-aef5-ad099030c36b",
   "metadata": {},
   "outputs": [],
   "source": [
    "# //https://medium.com/@researchgraph/what-is-phi-3-5-vision-101ce7c4d410"
   ]
  },
  {
   "cell_type": "code",
   "execution_count": null,
   "id": "79885dfe-0e89-4f56-8b28-b2e3e3f4c6c9",
   "metadata": {},
   "outputs": [],
   "source": [
    "import os\n",
    "from PIL import Image \n",
    "\n",
    "\n",
    "from transformers import AutoModelForCausalLM \n",
    "from transformers import AutoProcessor "
   ]
  },
  {
   "cell_type": "code",
   "execution_count": null,
   "id": "b6c03bd7-9ca3-4113-8ce6-df2db6859148",
   "metadata": {},
   "outputs": [],
   "source": [
    "import tensorflow as tf\n",
    "import torch\n",
    "\n",
    "print(tf.__version__) \n",
    "print(tf.config.list_physical_devices('GPU'))\n",
    "\n",
    "print(torch.__version__)\n",
    "for i in range(torch.cuda.device_count()):\n",
    "   print(torch.cuda.get_device_properties(i).name)"
   ]
  },
  {
   "cell_type": "code",
   "execution_count": null,
   "id": "006bf782-1481-4121-99a0-afb9f2a11272",
   "metadata": {},
   "outputs": [],
   "source": [
    "model_id = \"microsoft/Phi-3.5-vision-instruct\" \n",
    "\n",
    "# Note: set _attn_implementation='eager' if you don't have flash_attn installed\n",
    "model = AutoModelForCausalLM.from_pretrained(\n",
    "  model_id, \n",
    "  device_map=\"cuda\", \n",
    "  trust_remote_code=True, \n",
    "  torch_dtype=\"auto\", \n",
    "  _attn_implementation='eager' # use _attn_implementation='eager' to disable flash attention , _attn_implementation='flash_attention_2'\n",
    ")\n",
    "\n",
    "# for best performance, use num_crops=4 for multi-frame, num_crops=16 for single-frame.\n",
    "processor = AutoProcessor.from_pretrained(model_id, \n",
    "  trust_remote_code=True, \n",
    "  num_crops=16  # Changed to 16 for single-frame\n",
    ") "
   ]
  },
  {
   "cell_type": "code",
   "execution_count": null,
   "id": "34d1eb80-ef63-4870-8e44-9cf82588a669",
   "metadata": {},
   "outputs": [],
   "source": [
    "images = []\n",
    "placeholder = \"\""
   ]
  },
  {
   "cell_type": "code",
   "execution_count": null,
   "id": "6010cad9-2080-4918-a6b9-0222e4c299fe",
   "metadata": {},
   "outputs": [],
   "source": [
    "!pwd\n",
    "! ls -la ./../../data/MultiModalGenAI/dog.png"
   ]
  },
  {
   "cell_type": "code",
   "execution_count": null,
   "id": "6e8cfe6e-d630-4f0d-8aa1-67df17d1ae1b",
   "metadata": {},
   "outputs": [],
   "source": [
    "os.getcwd()"
   ]
  },
  {
   "cell_type": "code",
   "execution_count": null,
   "id": "609e1cec-4c87-4eeb-a60c-05ddda2ce501",
   "metadata": {},
   "outputs": [],
   "source": [
    "local_image_path = \"./../../data/MultiModalGenAI/dog.png\"  # Replace with your actual image path\n",
    "img = Image.open(local_image_path)\n",
    "images.append(img)\n",
    "placeholder += \"<|image_1|>\\n\"\n",
    "# url = \"https://assets-c4akfrf5b4d3f4b7.z01.azurefd.net/assets/2024/04/BMDataViz_661fb89f3845e.png\" \n",
    "# image = Image.open(requests.get(url, stream=True).raw) \n",
    "\n",
    "img.show()"
   ]
  },
  {
   "cell_type": "code",
   "execution_count": null,
   "id": "97006296-110b-4d61-a29f-37648a751031",
   "metadata": {},
   "outputs": [],
   "source": [
    "messages = [\n",
    "    {\"role\": \"user\", \"content\": placeholder+\"Describe this image in detail, including the main subject, actions, and setting.\"},\n",
    "]"
   ]
  },
  {
   "cell_type": "code",
   "execution_count": null,
   "id": "e6eda978-99f7-4059-8b4e-5010f1902401",
   "metadata": {},
   "outputs": [],
   "source": [
    "prompt = processor.tokenizer.apply_chat_template(\n",
    "  messages, \n",
    "  tokenize=False, \n",
    "  add_generation_prompt=True\n",
    ")\n",
    "\n",
    "inputs = processor(prompt, images, return_tensors=\"pt\").to(\"cuda:0\") \n",
    "\n",
    "generation_args = { \n",
    "    \"max_new_tokens\": 1000,\n",
    "    \"temperature\": 0.7,  # Added some randomness\n",
    "    \"do_sample\": True,  # Enable sampling\n",
    "    \"top_k\": 50,  # Added top-k sampling\n",
    "} \n",
    "\n",
    "generate_ids = model.generate(**inputs, \n",
    "  eos_token_id=processor.tokenizer.eos_token_id, \n",
    "  **generation_args\n",
    ")\n",
    "\n",
    "# remove input tokens \n",
    "generate_ids = generate_ids[:, inputs['input_ids'].shape[1]:]\n",
    "response = processor.batch_decode(generate_ids, \n",
    "  skip_special_tokens=True, \n",
    "  clean_up_tokenization_spaces=False)[0] \n",
    "\n",
    "print(\"\\nDesribing the image:\")\n",
    "print(response)"
   ]
  },
  {
   "cell_type": "code",
   "execution_count": null,
   "id": "60ba7ea2-66a8-4299-bf0b-4d40d1f786a9",
   "metadata": {},
   "outputs": [],
   "source": []
  }
 ],
 "metadata": {
  "kernelspec": {
   "display_name": "Python 3 (ipykernel)",
   "language": "python",
   "name": "python3"
  },
  "language_info": {
   "codemirror_mode": {
    "name": "ipython",
    "version": 3
   },
   "file_extension": ".py",
   "mimetype": "text/x-python",
   "name": "python",
   "nbconvert_exporter": "python",
   "pygments_lexer": "ipython3",
   "version": "3.10.12"
  }
 },
 "nbformat": 4,
 "nbformat_minor": 5
}
